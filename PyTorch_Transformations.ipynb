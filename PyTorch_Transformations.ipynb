{
 "nbformat": 4,
 "nbformat_minor": 0,
 "metadata": {
  "colab": {
   "provenance": []
  },
  "kernelspec": {
   "name": "python3",
   "display_name": "Python 3"
  },
  "language_info": {
   "name": "python"
  }
 },
 "cells": [
  {
   "metadata": {},
   "cell_type": "markdown",
   "source": [
    "## 1. INSTALL PYTORCH + DEPENDENCIES\n",
    "Run pip command to install. Usually installed by default but extra to be extra sure."
   ]
  },
  {
   "metadata": {},
   "cell_type": "code",
   "outputs": [],
   "execution_count": null,
   "source": "!pip3 install torch torchvision torchaudio --index-url https://download.pytorch.org/whl/cu121"
  },
  {
   "cell_type": "markdown",
   "source": [
    "## 2. RUN TRANSFORMATIONS ON IMAGES\n",
    "\n",
    "Ensure code blocks are run in order, and that your original images are under `/content/input/` (Basically just open the file button on the left)\n",
    "\n",
    "### 2.1 ColorJitter Transform\n",
    "\n",
    "Run below to create ColorJitter output.\n"
   ],
   "metadata": {
    "id": "Ot_nXZdTL_ec"
   }
  },
  {
   "cell_type": "code",
   "source": [
    "import os\n",
    "import shutil\n",
    "\n",
    "from os import path\n",
    "from PIL import Image\n",
    "from torchvision import transforms\n",
    "\n",
    "# Read original images from disk and create image array\n",
    "images = []\n",
    "print(\"Image array created. Reading input files...\")\n",
    "\n",
    "for filename in os.listdir(\"/content/input/\"):\n",
    "  if filename.lower().endswith((\".jpg\", \".jpeg\", \".png\", \".bmp\")):\n",
    "    filepath = os.path.join(\"/content/input/\", filename)\n",
    "\n",
    "    try:\n",
    "      image = Image.open(filepath)\n",
    "      images.append(image)\n",
    "      print(f\"Appended image: {filepath}\")\n",
    "    except OSError as e:\n",
    "      print(e)\n",
    "\n",
    "print(f\"Loaded {len(images)} images.\")\n",
    "\n",
    "\n",
    "# Create images transformed with ColorJitter ----------------------------\n",
    "color_jitter = transforms.ColorJitter(brightness=.5, hue=.3)\n",
    "print(\"Color Jitter config initialized.\")\n",
    "\n",
    "output_dir = \"/content/cjoutput/\"\n",
    "os.makedirs(output_dir, exist_ok=True)\n",
    "\n",
    "cj_images = []\n",
    "\n",
    "for image in images:\n",
    "  # Transform original image\n",
    "  t_image = color_jitter(image)\n",
    "  # Replacing file name tag original to colorjitter, and editing path to save to /content/cjoutput/\n",
    "  output_path = image.filename.replace(\"input\", \"cjoutput\")\n",
    "  output_path = output_path.replace(\".jpg\", \"_CODYB_COLORJITTER.jpg\")\n",
    "  #output_path = output_path.replace(\"Original\", \"ColorJitter\")\n",
    "\n",
    "  print(\"Output path created: \" + output_path)\n",
    "\n",
    "  try:\n",
    "    t_image.save(output_path)\n",
    "    print(\"Saved ColorJitter transformed image: \" + output_path)\n",
    "    cj_images.append(t_image)\n",
    "    print(\"Added ColorJitter image to cj_images[].\")\n",
    "  except OSError as e:\n",
    "    print(e)\n",
    "\n",
    "print(f\"CJ transformed {len(cj_images)} images.\")\n",
    "\n",
    "try:\n",
    "  shutil.make_archive(\"cjoutput\", \"zip\", \"/content/cjoutput/\")\n",
    "  print(\"CJ output archive file {cjoutput.zip} generated.\")\n",
    "except OSError as e:\n",
    "  print(e)"
   ],
   "metadata": {
    "id": "Y0uLTVL7MWFz",
    "colab": {
     "base_uri": "https://localhost:8080/"
    },
    "outputId": "07ba8c23-fff6-48b0-d0d2-095a8069e401"
   },
   "outputs": [],
   "execution_count": null
  },
  {
   "cell_type": "markdown",
   "source": [
    "### 2.2 RandomPerspective Transform\n",
    "\n",
    "Run below to create RandomPerspective output."
   ],
   "metadata": {
    "id": "hZCtF9rokqze"
   }
  },
  {
   "cell_type": "code",
   "source": [
    "# Create images transformed with RandomPerspective ----------------------------\n",
    "random_perspective = transforms.RandomPerspective(distortion_scale=0.4, p=1.0)\n",
    "print(\"Random Perspective config initialized.\")\n",
    "\n",
    "output_dir = \"/content/rpoutput/\"\n",
    "os.makedirs(output_dir, exist_ok=True)\n",
    "\n",
    "rp_images = []\n",
    "\n",
    "for image in images:\n",
    "  # Transform original image\n",
    "  t_image = random_perspective(image)\n",
    "  # Replacing file name tag original to random perspective, and editing path to save to /content/rpoutput/\n",
    "  output_path = image.filename.replace(\"input\", \"rpoutput\")\n",
    "  output_path = output_path.replace(\".jpg\", \"_CODYB_RANDPERSPECT.jpg\")\n",
    "  #output_path = output_path.replace(\"Original\", \"RandPerspect\")\n",
    "\n",
    "  print(\"Output path created: \" + output_path)\n",
    "\n",
    "  try:\n",
    "    t_image.save(output_path)\n",
    "    print(\"Saved RandomPerspective transformed image: \" + output_path)\n",
    "    rp_images.append(t_image)\n",
    "    print(\"Added RandomPerspective image to rp_images[].\")\n",
    "  except OSError as e:\n",
    "    print(e)\n",
    "\n",
    "print(f\"RP transformed {len(rp_images)} images.\")\n",
    "\n",
    "try:\n",
    "  shutil.make_archive(\"rpoutput\", \"zip\", \"/content/rpoutput/\")\n",
    "  print(\"RP output archive file {rpoutput.zip} generated.\")\n",
    "except OSError as e:\n",
    "  print(e)"
   ],
   "metadata": {
    "id": "-F2SKjqZkRB-",
    "colab": {
     "base_uri": "https://localhost:8080/"
    },
    "outputId": "cf06e9bb-65ca-47ef-f889-5a9fa9a7665f"
   },
   "outputs": [],
   "execution_count": null
  },
  {
   "cell_type": "markdown",
   "source": [
    "### 2.3 RandomRotate Transform\n",
    "\n",
    "Run below to create RandomRotate output."
   ],
   "metadata": {
    "id": "BNkCPybGk7-F"
   }
  },
  {
   "cell_type": "code",
   "source": [
    "# Create images transformed with RandomRotation ----------------------------\n",
    "random_rotation = transforms.RandomRotation(degrees=(-40, 40))\n",
    "print(\"Random Rotation config initialized.\")\n",
    "\n",
    "output_dir = \"/content/rroutput/\"\n",
    "os.makedirs(output_dir, exist_ok=True)\n",
    "\n",
    "rr_images = []\n",
    "\n",
    "for image in images:\n",
    "  # Transform original image\n",
    "  t_image = random_rotation(image)\n",
    "  # Replacing file name tag original to random rotate, and editing path to save to /content/rroutput/\n",
    "  output_path = image.filename.replace(\"input\", \"rroutput\")\n",
    "  output_path = output_path.replace(\".jpg\", \"_CODYB_RANDROTATE.jpg\")\n",
    "  #output_path = output_path.replace(\"Original\", \"RandRotate\")\n",
    "\n",
    "  print(\"Output path created: \" + output_path)\n",
    "\n",
    "  try:\n",
    "    t_image.save(output_path)\n",
    "    print(\"Saved RandomRotation transformed image: \" + output_path)\n",
    "    rr_images.append(t_image)\n",
    "    print(\"Added RandomRotation image to rr_images[].\")\n",
    "  except OSError as e:\n",
    "    print(e)\n",
    "\n",
    "print(f\"RR transformed {len(rr_images)} images.\")\n",
    "\n",
    "try:\n",
    "  shutil.make_archive(\"rroutput\", \"zip\", \"/content/rroutput/\")\n",
    "  print(\"RR output archive file {rroutput.zip} generated.\")\n",
    "except OSError as e:\n",
    "  print(e)"
   ],
   "metadata": {
    "id": "lJho96VukQnd",
    "outputId": "ee032f12-c2d7-4777-9943-21ff40fb2875",
    "colab": {
     "base_uri": "https://localhost:8080/"
    }
   },
   "outputs": [],
   "execution_count": null
  }
 ]
}
